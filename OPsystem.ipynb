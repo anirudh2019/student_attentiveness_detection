{
 "cells": [
  {
   "cell_type": "code",
   "execution_count": 10,
   "id": "f19125be-4634-4de8-a40f-59c098552eee",
   "metadata": {},
   "outputs": [],
   "source": [
    "from face_recog import Face_recog\n",
    "from face_land_mp import face_landmarks_mp\n",
    "from headpose import head_main\n",
    "from eye_tracker import eye_tracking\n",
    "from detect_open_mouth import main_open_mouth\n",
    "from imutils import face_utils\n",
    "import time\n",
    "import matplotlib.pyplot as plt\n",
    "import numpy as np\n",
    "import mediapipe as mp\n",
    "import cv2\n",
    "import dlib"
   ]
  },
  {
   "cell_type": "code",
   "execution_count": 11,
   "id": "dcf4e6ab-10ca-494b-ad81-6b7d9db7e70e",
   "metadata": {},
   "outputs": [],
   "source": [
    "def print_fps(frame):\n",
    "    global pTime\n",
    "    cTime = time.time()\n",
    "    fps = 1/(cTime - pTime)\n",
    "    pTime = cTime\n",
    "    cv2.putText(frame, f\"FPS: {int(fps)}\", (30, 60), cv2.FONT_HERSHEY_SIMPLEX, 0.7,(255, 0, 0), 2)\n",
    "    return frame"
   ]
  },
  {
   "cell_type": "code",
   "execution_count": 12,
   "id": "b8161a25-4308-4d50-875e-9f119291346b",
   "metadata": {},
   "outputs": [],
   "source": [
    "#"
   ]
  },
  {
   "cell_type": "code",
   "execution_count": 13,
   "id": "d81cff4c-35b9-4b0f-ba6c-b2b78b6d684d",
   "metadata": {},
   "outputs": [],
   "source": [
    "# Crop face based on its bounding box\n",
    "def get_face(frame, bbox):\n",
    "    real_h, real_w, c = frame.shape\n",
    "    x,y,w,h = bbox\n",
    "    y1 = 0 if y < 0 else y\n",
    "    x1 = 0 if x < 0 else x \n",
    "    y2 = real_h if y1 + h > real_h else y + h\n",
    "    x2 = real_w if x1 + w > real_w else x + w\n",
    "    face = frame[y1:y2,x1:x2,:]\n",
    "    return face"
   ]
  },
  {
   "cell_type": "code",
   "execution_count": 14,
   "id": "ef9d00de-aa02-4b1c-98c9-ee6212e542a5",
   "metadata": {},
   "outputs": [],
   "source": [
    "def face_detection(frame_in, draw = True, score= False, confidence = 0.85, copy=False):\n",
    "    \"\"\"\n",
    "    Outputs the frame with detected face, alert_bool and cropped face\n",
    "    \"\"\"\n",
    "    global noface_count\n",
    "    global multiple_faces_count\n",
    "    alert_bool = False\n",
    "    bboxes = []\n",
    "    mp_face_detection = mp.solutions.face_detection\n",
    "    mp_drawing = mp.solutions.drawing_utils\n",
    "    if copy:\n",
    "        frame = frame_in.copy()\n",
    "    else:\n",
    "        frame = frame_in\n",
    "    \n",
    "    \n",
    "    with mp_face_detection.FaceDetection(model_selection=0, min_detection_confidence= confidence) as face_detector:\n",
    "        \n",
    "        # To improve performance, optionally mark the frame as not writeable to\n",
    "        # pass by reference.\n",
    "        frame.flags.writeable = False\n",
    "        frame = cv2.cvtColor(frame, cv2.COLOR_BGR2RGB)\n",
    "        \n",
    "        #Face detection:\n",
    "        results = face_detector.process(frame)\n",
    "        frame.flags.writeable = True\n",
    "        frame = cv2.cvtColor(frame, cv2.COLOR_RGB2BGR)\n",
    "            \n",
    "    # Absence of any face detection\n",
    "    if not results.detections:\n",
    "        noface_count+=1\n",
    "        alert_bool = True\n",
    "        cv2.putText(frame, 'NO faces detected for '+str(noface_count)+' times', (30, 30), cv2.FONT_HERSHEY_SIMPLEX, 0.7, (255, 0, 0), 2)\n",
    "    # Multiple faces detection\n",
    "    elif len(results.detections)>1:\n",
    "        multiple_faces_count += 1\n",
    "        alert_bool = True\n",
    "        cv2.putText(frame, 'MULTIPLE faces detected for '+str(multiple_faces_count)+' times', (30, 30), cv2.FONT_HERSHEY_SIMPLEX, 0.7, (255, 0, 0), 2)\n",
    "    \n",
    "    # Get bboxes for detected faces and draw the face detection annotations on the frame.\n",
    "    if results.detections:\n",
    "        for id, detection in enumerate(results.detections):\n",
    "            bbox = detection.location_data.relative_bounding_box\n",
    "            ih, iw, ic = frame.shape\n",
    "            bbox = int(bbox.xmin * iw), int(bbox.ymin * ih), int(bbox.width * iw), int(bbox.height * ih)\n",
    "            bboxes.append(bbox)\n",
    "            if draw:\n",
    "                cv2.rectangle(frame, bbox, (255, 0, 255), 2)\n",
    "                if score:\n",
    "                    cv2.putText(frame, f'{int(detection.score[0] * 100)}%', (bbox[0], bbox[1] - 20), cv2.FONT_HERSHEY_PLAIN, 2, (255, 0, 255), 2)\n",
    "    \n",
    "    return alert_bool, frame, bboxes"
   ]
  },
  {
   "cell_type": "code",
   "execution_count": 15,
   "id": "53784fc0-8427-4b53-82b2-314268a17951",
   "metadata": {},
   "outputs": [],
   "source": [
    "def face_recognition(frame, fr, bbox):\n",
    "    global failed_verif_count\n",
    "    \n",
    "    # Detect and recognise Faces\n",
    "    face_locations, face_names = fr.detect_known_faces(frame)\n",
    "    #alert_bool = face_names\n",
    "    alert_bool = not face_names\n",
    "    #Draw box and name\n",
    "    for face_loc, name in zip(face_locations, face_names):\n",
    "        cv2.putText(frame, name, (bbox[0], bbox[1] - 20), cv2.FONT_HERSHEY_PLAIN, 2, (255, 0, 0), 2)\n",
    "        \n",
    "    if not alert_bool:\n",
    "        cv2.putText(frame, 'Face Verified', (30, 30), cv2.FONT_HERSHEY_SIMPLEX, 0.7, (255, 0, 0), 2)\n",
    "    else:\n",
    "        failed_verif_count += 1\n",
    "        cv2.putText(frame, 'ANOTHER PERSON detected for '+str(failed_verif_count)+' times', (30, 30), cv2.FONT_HERSHEY_SIMPLEX, 0.7, (255, 0, 0), 2)"
   ]
  },
  {
   "cell_type": "code",
   "execution_count": 16,
   "id": "a26f23d3-17dc-45ab-87b2-21911502d860",
   "metadata": {},
   "outputs": [],
   "source": [
    "def facial_landmarks_detection(frame_in, draw= True, copy=False, module = \"Dlib\"):\n",
    "    if copy:\n",
    "        frame = frame_in.copy()\n",
    "    else:\n",
    "        frame = frame_in\n",
    "    \n",
    "    if module == \"Dlib\":\n",
    "        # detect faces in the grayscale image\n",
    "        gray = cv2.cvtColor(frame, cv2.COLOR_BGR2GRAY)   \n",
    "        rects = detector(gray, 0)\n",
    "        ret = False\n",
    "        shape = \"\"\n",
    "    \n",
    "        # loop over the face detections\n",
    "        for (i, rect) in enumerate(rects):\n",
    "            # determine the facial landmarks for the face region, then\n",
    "            # convert the facial landmark (x, y)-coordinates to a NumPy\n",
    "            # array\n",
    "            ret = True\n",
    "            shape = predictor(gray, rect)\n",
    "            shape = face_utils.shape_to_np(shape)\n",
    "        \n",
    "            # loop over the (x, y)-coordinates for the facial landmarks\n",
    "            # and draw them on the frame\n",
    "            if draw:\n",
    "                for (x, y) in shape:\n",
    "                    cv2.circle(frame, (x, y), 2, (0, 255, 0), -1)\n",
    "                    \n",
    "        return ret, shape, frame\n",
    "    \n",
    "    elif module == \"mediapipe\":\n",
    "        alert_bool, shape, frame = face_landmarks_mp(frame)\n",
    "        return False, shape, frame"
   ]
  },
  {
   "cell_type": "code",
   "execution_count": 17,
   "id": "5138bf28-df19-4591-9f0a-bb9d9bdefaf1",
   "metadata": {},
   "outputs": [],
   "source": [
    "def capture_image():\n",
    "    while True:\n",
    "        blank = cv2.imread('db/blank.png')\n",
    "        cv2.putText(blank, 'press c to capture image and start proctoring', (30, 60), cv2.FONT_HERSHEY_SIMPLEX, 0.7, (255, 255, 255), 2)\n",
    "        cv2.imshow(\"Output\", blank)\n",
    "        if cv2.waitKey(1) & 0xFF == ord('c'):\n",
    "            break\n",
    "    cv2.destroyAllWindows()\n",
    "\n",
    "    # capturing image\n",
    "    webcam = cv2.VideoCapture(0) \n",
    "    ret, frame = webcam.read()\n",
    "    \n",
    "    # saving image as use_image.jpg\n",
    "    # for further face verification\n",
    "    cv2.imwrite(\"captures/user_image.jpg\", frame)\n",
    "    webcam.release()\n",
    "    cv2.destroyAllWindows()\n",
    "    \n",
    "    # reading picture as user_pic\n",
    "    user_pic = cv2.imread('captures/user_image.jpg')"
   ]
  },
  {
   "cell_type": "code",
   "execution_count": 18,
   "id": "47386dbb-e78e-486e-bf7a-87f97cec1d36",
   "metadata": {},
   "outputs": [
    {
     "name": "stdout",
     "output_type": "stream",
     "text": [
      "1 encoding images found.\n",
      "Encoding images loaded\n"
     ]
    }
   ],
   "source": [
    "font = cv2.FONT_HERSHEY_SIMPLEX \n",
    "\n",
    "# Face recognizer\n",
    "fr = Face_recog()\n",
    "fr.load_encoding_images(\"captures/\")\n",
    "\n",
    "# Facial landmarks predictor\n",
    "saved_model = \"models/shape_predictor_68_face_landmarks.dat\"\n",
    "detector = dlib.get_frontal_face_detector()\n",
    "predictor = dlib.shape_predictor(saved_model)\n",
    "\n",
    "noface_count = 0\n",
    "multiple_faces_count = 0\n",
    "failed_verif_count = 0\n",
    "pTime = 0\n",
    "font = cv2.FONT_HERSHEY_PLAIN "
   ]
  },
  {
   "cell_type": "code",
   "execution_count": 19,
   "id": "8f0c9c75-3f07-4e8a-86f2-dfcf57003453",
   "metadata": {},
   "outputs": [],
   "source": [
    "def main():\n",
    "    capture_image()\n",
    "    cap = cv2.VideoCapture(0)\n",
    "    cv2.namedWindow('PROCTORING ON')\n",
    "    while(True):\n",
    "        # Video capture frame by frame\n",
    "        ret, frame = cap.read()\n",
    "        frame = print_fps(cv2.flip(frame, 1))\n",
    "        \n",
    "        #Faces detection\n",
    "        alert_bool, frame, bboxes =  face_detection(frame, confidence = 0.6, copy=False)\n",
    "        \n",
    "        #Only if single face detected\n",
    "        if not alert_bool:    \n",
    "            face = get_face(frame, bboxes[0])\n",
    "            # Face verification\n",
    "            face_recognition(frame, fr, bboxes[0])\n",
    "            \n",
    "            # Facial landmarks detection\n",
    "            ret, shape, frame = facial_landmarks_detection(frame, copy=False, module=\"Dlib\")\n",
    "            if ret:\n",
    "                head_main(frame,shape, copy=False)\n",
    "                eye_tracking(frame, shape, threshold = 75)\n",
    "                # frame = mouth_main(frame, shape)\n",
    "                frame = main_open_mouth(frame, shape)\n",
    "        \n",
    "        cv2.imshow('PROCTORING ON',  frame)\n",
    "                \n",
    "        if cv2.waitKey(1) & 0xFF == 27: \n",
    "            break\n",
    "    cap.release()\n",
    "    cv2.destroyAllWindows()\n",
    "    return"
   ]
  },
  {
   "cell_type": "code",
   "execution_count": 20,
   "id": "58be2877-3649-451a-8414-56e1648ce587",
   "metadata": {
    "tags": []
   },
   "outputs": [
    {
     "name": "stderr",
     "output_type": "stream",
     "text": [
      "C:\\Users\\Kathuri Abhinav\\mini_project_iiita\\eye_tracker.py:39: RuntimeWarning: divide by zero encountered in long_scalars\n",
      "  y_ratio = (cy - end_points[1])/(end_points[3] - cy)\n",
      "C:\\Users\\Kathuri Abhinav\\mini_project_iiita\\headpose.py:134: RuntimeWarning: divide by zero encountered in int_scalars\n",
      "  m = (x2[1] - x1[1])/(x2[0] - x1[0])\n",
      "C:\\Users\\Kathuri Abhinav\\mini_project_iiita\\eye_tracker.py:38: RuntimeWarning: divide by zero encountered in long_scalars\n",
      "  x_ratio = (end_points[0] - cx)/(cx - end_points[2])\n",
      "C:\\Users\\Kathuri Abhinav\\mini_project_iiita\\headpose.py:135: RuntimeWarning: divide by zero encountered in double_scalars\n",
      "  ang2 = int(math.degrees(math.atan(-1/m)))\n"
     ]
    }
   ],
   "source": [
    "if __name__ == \"__main__\":\n",
    "    main()\n",
    "    exit()"
   ]
  },
  {
   "cell_type": "code",
   "execution_count": 21,
   "id": "144bf861-1877-466c-914f-be8e41d726c8",
   "metadata": {},
   "outputs": [],
   "source": [
    "#    DO NOT DELETE THIS!\n",
    "# Warnings in head pose estimation:\n",
    "#     C:\\Users\\Anirudh\\mini_project_iiita\\headpose.py:129: RuntimeWarning: divide by zero encountered in int_scalars\n",
    "#   m = (x2[1] - x1[1])/(x2[0] - x1[0])\n",
    "#   ang2 = ...(1/m)..\n",
    "# C:\\Users\\Anirudh\\mini_project_iiita\\eye_tracker.py:39: RuntimeWarning: divide by zero encountered in long_scalars\n",
    "#   y_ratio = (cy - end_points[1])/(end_points[3] - cy)"
   ]
  },
  {
   "cell_type": "code",
   "execution_count": 22,
   "id": "0bbe44ce-3262-4d2c-9182-900acfb22162",
   "metadata": {},
   "outputs": [],
   "source": [
    "# Rough:\n",
    "        # outputs: detreg_out, landeye_out, head_out\n",
    "#         head_out = cv2.copyMakeBorder(head_out, 0, 0, 320, 320, cv2.BORDER_CONSTANT, (0,0,0))\n",
    "#         horiz = np.concatenate((horiz, head_out), axis = 1)"
   ]
  },
  {
   "cell_type": "code",
   "execution_count": null,
   "id": "905ebcfb-c2e8-40c5-bf50-ff538f4ef738",
   "metadata": {},
   "outputs": [],
   "source": []
  }
 ],
 "metadata": {
  "kernelspec": {
   "display_name": "Python 3 (ipykernel)",
   "language": "python",
   "name": "python3"
  },
  "language_info": {
   "codemirror_mode": {
    "name": "ipython",
    "version": 3
   },
   "file_extension": ".py",
   "mimetype": "text/x-python",
   "name": "python",
   "nbconvert_exporter": "python",
   "pygments_lexer": "ipython3",
   "version": "3.8.11"
  }
 },
 "nbformat": 4,
 "nbformat_minor": 5
}
